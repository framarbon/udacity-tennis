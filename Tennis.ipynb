{
 "cells": [
  {
   "cell_type": "markdown",
   "metadata": {},
   "source": [
    "# Collaboration and Competition\n",
    "\n",
    "---\n",
    "\n",
    "You are welcome to use this coding environment to train your agent for the project.  Follow the instructions below to get started!\n",
    "\n",
    "### 1. Start the Environment\n",
    "\n",
    "Run the next code cell to install a few packages.  This line will take a few minutes to run!"
   ]
  },
  {
   "cell_type": "code",
   "execution_count": 1,
   "metadata": {},
   "outputs": [
    {
     "name": "stdout",
     "output_type": "stream",
     "text": [
      "\u001b[31mtensorflow 1.7.1 has requirement numpy>=1.13.3, but you'll have numpy 1.12.1 which is incompatible.\u001b[0m\r\n",
      "\u001b[31mipython 6.5.0 has requirement prompt-toolkit<2.0.0,>=1.0.15, but you'll have prompt-toolkit 3.0.19 which is incompatible.\u001b[0m\r\n"
     ]
    }
   ],
   "source": [
    "!pip -q install ./python"
   ]
  },
  {
   "cell_type": "markdown",
   "metadata": {},
   "source": [
    "The environment is already saved in the Workspace and can be accessed at the file path provided below. "
   ]
  },
  {
   "cell_type": "code",
   "execution_count": 2,
   "metadata": {},
   "outputs": [
    {
     "name": "stderr",
     "output_type": "stream",
     "text": [
      "INFO:unityagents:\n",
      "'Academy' started successfully!\n",
      "Unity Academy name: Academy\n",
      "        Number of Brains: 1\n",
      "        Number of External Brains : 1\n",
      "        Lesson number : 0\n",
      "        Reset Parameters :\n",
      "\t\t\n",
      "Unity brain name: TennisBrain\n",
      "        Number of Visual Observations (per agent): 0\n",
      "        Vector Observation space type: continuous\n",
      "        Vector Observation space size (per agent): 8\n",
      "        Number of stacked Vector Observation: 3\n",
      "        Vector Action space type: continuous\n",
      "        Vector Action space size (per agent): 2\n",
      "        Vector Action descriptions: , \n"
     ]
    }
   ],
   "source": [
    "from unityagents import UnityEnvironment\n",
    "import numpy as np\n",
    "\n",
    "env = UnityEnvironment(file_name=\"/data/Tennis_Linux_NoVis/Tennis\")"
   ]
  },
  {
   "cell_type": "markdown",
   "metadata": {},
   "source": [
    "Environments contain **_brains_** which are responsible for deciding the actions of their associated agents. Here we check for the first brain available, and set it as the default brain we will be controlling from Python."
   ]
  },
  {
   "cell_type": "code",
   "execution_count": 3,
   "metadata": {},
   "outputs": [],
   "source": [
    "# get the default brain\n",
    "brain_name = env.brain_names[0]\n",
    "brain = env.brains[brain_name]"
   ]
  },
  {
   "cell_type": "markdown",
   "metadata": {},
   "source": [
    "### 2. State and Action Spaces"
   ]
  },
  {
   "cell_type": "code",
   "execution_count": 4,
   "metadata": {},
   "outputs": [
    {
     "name": "stdout",
     "output_type": "stream",
     "text": [
      "Number of agents: 2\n",
      "Size of each action: 2\n",
      "There are 2 agents. Each observes a state with length: 24\n",
      "The state for the first agent looks like: [ 0.          0.          0.          0.          0.          0.          0.\n",
      "  0.          0.          0.          0.          0.          0.          0.\n",
      "  0.          0.         -6.65278625 -1.5        -0.          0.\n",
      "  6.83172083  6.         -0.          0.        ]\n",
      "The state for the all agents looks like: [[ 0.          0.          0.          0.          0.          0.          0.\n",
      "   0.          0.          0.          0.          0.          0.          0.\n",
      "   0.          0.         -6.65278625 -1.5        -0.          0.\n",
      "   6.83172083  6.         -0.          0.        ]\n",
      " [ 0.          0.          0.          0.          0.          0.          0.\n",
      "   0.          0.          0.          0.          0.          0.          0.\n",
      "   0.          0.         -6.4669857  -1.5         0.          0.\n",
      "  -6.83172083  6.          0.          0.        ]]\n"
     ]
    }
   ],
   "source": [
    "# reset the environment\n",
    "env_info = env.reset(train_mode=True)[brain_name]\n",
    "\n",
    "# number of agents \n",
    "num_agents = len(env_info.agents)\n",
    "print('Number of agents:', num_agents)\n",
    "\n",
    "# size of each action\n",
    "action_size = brain.vector_action_space_size\n",
    "print('Size of each action:', action_size)\n",
    "\n",
    "# examine the state space \n",
    "states = env_info.vector_observations\n",
    "state_size = states.shape[1]\n",
    "print('There are {} agents. Each observes a state with length: {}'.format(states.shape[0], state_size))\n",
    "print('The state for the first agent looks like:', states[0])\n",
    "print('The state for the all agents looks like:', states)"
   ]
  },
  {
   "cell_type": "markdown",
   "metadata": {},
   "source": [
    "### 3. The RL agent \n",
    "\n",
    "The agent implements a standard Deep Deterministic Policy Gradiant [(DDPG)](https://arxiv.org/abs/1509.02971) which is an extension of the widely known DQN algorithm to work with continuous spaces by implementing an actor critic architecture. The details of the implementation can be found in the file ddpg_agent.py.\n",
    "\n",
    "The agent consist of 2 actors and 2 critics, corresponding to the local and target models in the DDPG algorithm.\n",
    "All of these have a similar structure of 3 fully connected layers with ReLu activations. There are some details. like dropout or batch normalization that has been optionally added to the model as it can be seen in model.py.\n",
    "\n",
    "Another important aspect is that the number of hidden units of the critic depends on the number of agents, which could be 1 in the case we want to use the same agent for both player, or 2 if we want to have different actors and critics for each player while keeping centralized learning in the critic.\n",
    "\n",
    "The basic actor critic agent is implemented in ac_agent.py while the learning algorithm of DDPG is implemented in a derived class in ddpg_agent.py. This approach allows us to easily extend the basic AC agent to other implementations."
   ]
  },
  {
   "cell_type": "code",
   "execution_count": 5,
   "metadata": {},
   "outputs": [],
   "source": [
    "import torch\n",
    "import matplotlib.pyplot as plt\n",
    "%matplotlib inline\n",
    "from workspace_utils import active_session, keep_awake\n",
    "import numpy as np\n",
    "from collections import deque\n",
    "\n",
    "def run_agent(agent, noise=True, n_episodes=1000, random_episodes=1000, max_t=1000, print_every=100):\n",
    "    np.random.seed(agent.config.seed)\n",
    "    scores = deque(maxlen=print_every)\n",
    "    mean_score= []\n",
    "    for i_episode in keep_awake(range(1, n_episodes+1)):\n",
    "        env_info = env.reset(train_mode=True)[brain_name]      # reset the environment    \n",
    "        states = env_info.vector_observations                  # get the current state (for each agent)\n",
    "        score = np.zeros(2)\n",
    "        for t in range(max_t):\n",
    "            if i_episode < random_episodes:\n",
    "                actions = 2*(np.random.rand(2,2)-0.5)\n",
    "            else:\n",
    "                actions = agent.act(states, add_noise=noise)\n",
    "            env_info = env.step(actions)[brain_name]           # send all actions to tne environment\n",
    "            next_states = env_info.vector_observations         # get next state (for each agent)\n",
    "            rewards = env_info.rewards                         # get reward (for each agent)\n",
    "            dones = env_info.local_done                        # see if episode finished            \n",
    "            \n",
    "            agent.step(states, actions, rewards, next_states, dones)\n",
    "            states = next_states\n",
    "            score += rewards\n",
    "\n",
    "            if np.any(dones):\n",
    "                break \n",
    "        scores.append(max(score))\n",
    "        mean_score.append(max(score))\n",
    "        print('\\rEpisode {}\\tAverage Score: {:.2f}'.format(i_episode, np.mean(scores)), end=\"\")\n",
    "        agent.save(prefix=agent.alg+'_checkpoint')\n",
    "        if i_episode % print_every == 0:\n",
    "            print('\\rEpisode {}\\tAverage Score: {:.2f}'.format(i_episode, np.mean(scores)))\n",
    "        if np.mean(scores) > 0.5:\n",
    "            print('\\rProblem solved in {} episodes!\\tAverage Score: {:.2f}'.format(i_episode, np.mean(scores)))\n",
    "            agent.save(prefix=agent.alg+'_model')\n",
    "            return mean_score\n",
    "    return mean_score\n",
    "\n",
    "def plot_scores(scores):\n",
    "    fig = plt.figure()\n",
    "    ax = fig.add_subplot(111)\n",
    "    plt.plot(np.arange(1, len(scores)+1), scores)\n",
    "    plt.ylabel('Score')\n",
    "    plt.xlabel('Episode #')\n",
    "    plt.show()"
   ]
  },
  {
   "cell_type": "markdown",
   "metadata": {},
   "source": [
    "### 4. Set up agent hyperparameters\n",
    "\n",
    "The default hyper parameters are set in the following config.  \n",
    "As it can be seen, the choice for th elayer size is 128, which the possibility to add batch normalization and dropout, although they are disabled by default.\n",
    "\n",
    "The epsilons and sigma entries refer to the scale, decay rate and deviation of the OU noise.\n",
    "Alpha and beta correspond to the hyperparameters of prioritized experience replay.\n",
    "\n",
    "Something worth mention is that the batch size has been heavily incremented to 1024 in order to accumulate interesting transitions during the exploration phase explained in the next section."
   ]
  },
  {
   "cell_type": "code",
   "execution_count": 6,
   "metadata": {},
   "outputs": [],
   "source": [
    "from utilities import DictX\n",
    "\n",
    "def default_config():\n",
    "    return DictX({'n_agents': 2, 'batch_size': 128, 'buffer_size': int(1e6), 'learn_every': 1, 'tau': 1e-3, \\\n",
    "            'gamma': 0.99, 'lr_actor': 1e-4, 'lr_critic': 1e-4, 'limit_gradients': True, 'seed': 0, \\\n",
    "            'bn_active': False, 'first_layer_size': 128, 'second_layer_size': 128, 'dropout_rate': 0.0, \\\n",
    "            'epsilon_start': 0.2, 'epsilon_decay': 0.999, 'epsilon_min': 0.001, 'sigma': 0.5, \\\n",
    "            'path': 'trained_models/', 'alpha': 0.6,'beta': 0.4,'beta_step': 0.002})"
   ]
  },
  {
   "cell_type": "markdown",
   "metadata": {},
   "source": [
    "### 5. Train the agent and visualize reward\n",
    "\n",
    "One key issue that it was observed during training is that the agent was not exploring properly the space with the randomly initialized actor. That was leading to the agent never hitting the ball, and therefore, not learning at all. In order to address that during the first episodes we perform random actions instead of following the actor, as we can see in the function run_agent. The reason of this is to pretrain the model with highly explorative data in order to ensure a good training."
   ]
  },
  {
   "cell_type": "code",
   "execution_count": 11,
   "metadata": {},
   "outputs": [
    {
     "name": "stdout",
     "output_type": "stream",
     "text": [
      "Episode 100\tAverage Score: 0.03\n",
      "Episode 200\tAverage Score: 0.01\n",
      "Episode 300\tAverage Score: 0.02\n",
      "Episode 400\tAverage Score: 0.03\n",
      "Episode 500\tAverage Score: 0.02\n",
      "Episode 600\tAverage Score: 0.03\n",
      "Episode 700\tAverage Score: 0.06\n",
      "Episode 800\tAverage Score: 0.09\n",
      "Episode 900\tAverage Score: 0.10\n",
      "Episode 1000\tAverage Score: 0.12\n",
      "Episode 1100\tAverage Score: 0.19\n",
      "Problem solved in 1143 episodes!\tAverage Score: 0.52\n"
     ]
    },
    {
     "data": {
      "image/png": "[encoded data removed]",
      "text/plain": [
       "<matplotlib.figure.Figure at 0x7f9f8f10e198>"
      ]
     },
     "metadata": {
      "needs_background": "light"
     },
     "output_type": "display_data"
    }
   ],
   "source": [
    "from ddpg_agent import DDPG\n",
    "            \n",
    "config = default_config()\n",
    "config.batch_size = 1024\n",
    "config.bn_active = True\n",
    "ddpg = DDPG(state_size, action_size, config)\n",
    "scores = run_agent(ddpg, n_episodes=5000, random_episodes = 500)\n",
    "plot_scores(scores)"
   ]
  },
  {
   "cell_type": "markdown",
   "metadata": {},
   "source": [
    "### 6. Other approaches\n",
    "\n",
    "We also tried to implement prioritized experience replay with DDPG (PER DDPG) and MADDPG. The details of the implementation can be found in per_ddpg_agent.py and maddpg_agent.py."
   ]
  },
  {
   "cell_type": "markdown",
   "metadata": {},
   "source": [
    "#### PER DDPG\n",
    "\n",
    "As we can see the introduction of the experience replay improves the average score right after the exploration phase, however this dos not speed up the training at the end (the environment is solved in the smae number of episodes!).    \n",
    "Most likely we could find a set of parameters that better exploits this early advantage of PER, but due to the significant increase of runtime, and the success of vanilla DDPG, the previous method seems preferable."
   ]
  },
  {
   "cell_type": "code",
   "execution_count": 7,
   "metadata": {},
   "outputs": [
    {
     "name": "stdout",
     "output_type": "stream",
     "text": [
      "Setting up Prioritized Experience Replay...\n",
      "Episode 100\tAverage Score: 0.01\n",
      "Episode 200\tAverage Score: 0.02\n",
      "Episode 300\tAverage Score: 0.02\n",
      "Episode 400\tAverage Score: 0.01\n",
      "Episode 500\tAverage Score: 0.02\n",
      "Episode 600\tAverage Score: 0.05\n",
      "Episode 700\tAverage Score: 0.06\n",
      "Episode 800\tAverage Score: 0.08\n",
      "Episode 900\tAverage Score: 0.14\n",
      "Episode 1000\tAverage Score: 0.14\n",
      "Episode 1100\tAverage Score: 0.27\n",
      "Problem solved in 1143 episodes!\tAverage Score: 0.50\n"
     ]
    },
    {
     "data": {
      "image/png": "[encoded data removed]",
      "text/plain": [
       "<matplotlib.figure.Figure at 0x7f0e80c0acf8>"
      ]
     },
     "metadata": {
      "needs_background": "light"
     },
     "output_type": "display_data"
    }
   ],
   "source": [
    "from per_ddpg_agent import PDDPG\n",
    "            \n",
    "config = default_config()\n",
    "config.batch_size = 1024\n",
    "config.bn_active = True\n",
    "pddpg = PDDPG(state_size, action_size, config)\n",
    "scores = run_agent(pddpg, n_episodes=5000, random_episodes = 500)\n",
    "plot_scores(scores)"
   ]
  },
  {
   "cell_type": "markdown",
   "metadata": {},
   "source": [
    "#### MADPPG\n",
    "\n",
    "In this case we solved the problem much later than with DDPG. One potential reason is that the number of randome episodes should have been increased due to the fact that now we have to train 2 agents instead of 1.\n",
    "Therefore a more refined choice of hyperparameter could bring us closer to the results observed in DDPG"
   ]
  },
  {
   "cell_type": "code",
   "execution_count": 10,
   "metadata": {},
   "outputs": [
    {
     "name": "stdout",
     "output_type": "stream",
     "text": [
      "Episode 100\tAverage Score: 0.02\n",
      "Episode 200\tAverage Score: 0.02\n",
      "Episode 300\tAverage Score: 0.02\n",
      "Episode 400\tAverage Score: 0.03\n",
      "Episode 500\tAverage Score: 0.02\n",
      "Episode 600\tAverage Score: 0.00\n",
      "Episode 700\tAverage Score: 0.00\n",
      "Episode 800\tAverage Score: 0.00\n",
      "Episode 900\tAverage Score: 0.01\n",
      "Episode 1000\tAverage Score: 0.01\n",
      "Episode 1100\tAverage Score: 0.08\n",
      "Episode 1200\tAverage Score: 0.06\n",
      "Episode 1300\tAverage Score: 0.05\n",
      "Episode 1400\tAverage Score: 0.04\n",
      "Episode 1500\tAverage Score: 0.07\n",
      "Episode 1600\tAverage Score: 0.05\n",
      "Episode 1700\tAverage Score: 0.07\n",
      "Episode 1800\tAverage Score: 0.05\n",
      "Episode 1900\tAverage Score: 0.04\n",
      "Episode 2000\tAverage Score: 0.09\n",
      "Episode 2100\tAverage Score: 0.09\n",
      "Episode 2200\tAverage Score: 0.08\n",
      "Episode 2300\tAverage Score: 0.08\n",
      "Episode 2400\tAverage Score: 0.07\n",
      "Episode 2500\tAverage Score: 0.08\n",
      "Episode 2600\tAverage Score: 0.08\n",
      "Episode 2700\tAverage Score: 0.08\n",
      "Episode 2800\tAverage Score: 0.08\n",
      "Episode 2900\tAverage Score: 0.09\n",
      "Episode 3000\tAverage Score: 0.08\n",
      "Episode 3100\tAverage Score: 0.08\n",
      "Episode 3200\tAverage Score: 0.06\n",
      "Episode 3300\tAverage Score: 0.07\n",
      "Episode 3400\tAverage Score: 0.08\n",
      "Episode 3500\tAverage Score: 0.10\n",
      "Episode 3600\tAverage Score: 0.12\n",
      "Episode 3700\tAverage Score: 0.11\n",
      "Episode 3800\tAverage Score: 0.11\n",
      "Episode 3900\tAverage Score: 0.15\n",
      "Episode 4000\tAverage Score: 0.28\n",
      "Episode 4100\tAverage Score: 0.21\n",
      "Episode 4200\tAverage Score: 0.34\n",
      "Episode 4300\tAverage Score: 0.31\n",
      "Episode 4400\tAverage Score: 0.40\n",
      "Problem solved in 4480 episodes!\tAverage Score: 0.50\n"
     ]
    },
    {
     "data": {
      "image/png": "[encoded data removed]",
      "text/plain": [
       "<matplotlib.figure.Figure at 0x7f402b83e668>"
      ]
     },
     "metadata": {
      "needs_background": "light"
     },
     "output_type": "display_data"
    }
   ],
   "source": [
    "from maddpg_agent import MADDPG\n",
    "\n",
    "config = default_config()\n",
    "config.batch_size = 1024\n",
    "maddpg = MADDPG(state_size, action_size, config)\n",
    "scores = run_agent(maddpg, n_episodes=5000, random_episodes = 500)\n",
    "plot_scores(scores)"
   ]
  },
  {
   "cell_type": "markdown",
   "metadata": {},
   "source": [
    "### 7. Future Work\n",
    "As a future work it could be interesting to try a natural extension of DDPG which would be the Twin Delayed DDPG (TD3).    \n",
    "\n",
    "Another possibility would be to try to refine a better hyperparameter set by changing the size of the model, observing the effect of dropout in learning or try different model architectures."
   ]
  },
  {
   "cell_type": "code",
   "execution_count": null,
   "metadata": {},
   "outputs": [],
   "source": []
  }
 ],
 "metadata": {
  "kernelspec": {
   "display_name": "Python 3",
   "language": "python",
   "name": "python3"
  },
  "language_info": {
   "codemirror_mode": {
    "name": "ipython",
    "version": 3
   },
   "file_extension": ".py",
   "mimetype": "text/x-python",
   "name": "python",
   "nbconvert_exporter": "python",
   "pygments_lexer": "ipython3",
   "version": "3.8.5"
  }
 },
 "nbformat": 4,
 "nbformat_minor": 2
}
